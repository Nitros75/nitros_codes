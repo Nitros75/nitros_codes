{
 "cells": [
  {
   "cell_type": "code",
   "execution_count": 59,
   "id": "d26fd5e4-958c-4a59-a348-e026054d3a7c",
   "metadata": {},
   "outputs": [
    {
     "name": "stdout",
     "output_type": "stream",
     "text": [
      "2002-10-01 00:00:00 2013-10-11 00:00:00 1977-08-18 00:00:00\n"
     ]
    }
   ],
   "source": [
    "from datetime import datetime\n",
    "str_moscow_times='Wednesday,October 2,2002'\n",
    "str_guardian='Friday,11.10.13'\n",
    "str_daily='Thursday,18 August 1977'\n",
    "date_moscow = datetime.strptime(str_moscow_times, '%A,%B %w,%Y')\n",
    "date_guardian = datetime.strptime(str_guardian, '%A,%d.%m.%y')\n",
    "date_daily = datetime.strptime(str_daily, '%A,%d %B %Y')\n",
    "print (date_moscow, date_guardian, date_daily)"
   ]
  }
 ],
 "metadata": {
  "kernelspec": {
   "display_name": "Python 3 (ipykernel)",
   "language": "python",
   "name": "python3"
  },
  "language_info": {
   "codemirror_mode": {
    "name": "ipython",
    "version": 3
   },
   "file_extension": ".py",
   "mimetype": "text/x-python",
   "name": "python",
   "nbconvert_exporter": "python",
   "pygments_lexer": "ipython3",
   "version": "3.12.7"
  }
 },
 "nbformat": 4,
 "nbformat_minor": 5
}
