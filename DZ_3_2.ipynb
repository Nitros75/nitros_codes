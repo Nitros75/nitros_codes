{
 "cells": [
  {
   "cell_type": "code",
   "execution_count": 13,
   "id": "f2189b16-2c33-4fbc-9113-fb557ff7a7b2",
   "metadata": {},
   "outputs": [
    {
     "name": "stdin",
     "output_type": "stream",
     "text": [
      "Vvdeite stroku qwertyuiop\n",
      "Vvdeite na skolko simvolov sleva obrezat stroku 3\n",
      "Vvdeite skolko raz povtorit stroku 2\n"
     ]
    },
    {
     "data": {
      "text/plain": [
       "'rtyuioprtyuiop'"
      ]
     },
     "execution_count": 13,
     "metadata": {},
     "output_type": "execute_result"
    }
   ],
   "source": [
    "def trim_and_repeat (string, offset, repetitions) -> str:\n",
    "    \"\"\"\n",
    "    Функция обрезает введеную строку слева, повотряет нужное количество раз и выводит результат на экран\n",
    "    \"\"\"\n",
    "    string=' '\n",
    "    offset=0\n",
    "    repetitions=1\n",
    "    string= str(input('Vvdeite stroku:'))\n",
    "    offset =int(input('Vvdeite na skolko simvolov sleva obrezat stroku:'))\n",
    "    repetitions =int(input('Vvdeite skolko raz povtorit stroku:'))\n",
    "    a=len(string)\n",
    "    obr_string=string[offset:a]\n",
    "    res_string=obr_string*repetitions\n",
    "    return res_string\n",
    "trim_and_repeat (' ', 0, 1)"
   ]
  }
 ],
 "metadata": {
  "kernelspec": {
   "display_name": "Python 3 (ipykernel)",
   "language": "python",
   "name": "python3"
  },
  "language_info": {
   "codemirror_mode": {
    "name": "ipython",
    "version": 3
   },
   "file_extension": ".py",
   "mimetype": "text/x-python",
   "name": "python",
   "nbconvert_exporter": "python",
   "pygments_lexer": "ipython3",
   "version": "3.12.7"
  }
 },
 "nbformat": 4,
 "nbformat_minor": 5
}
