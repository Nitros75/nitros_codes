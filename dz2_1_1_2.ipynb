{
 "cells": [
  {
   "cell_type": "code",
   "execution_count": 47,
   "id": "f0c4efaa-74ac-489e-af3c-abb7520b8c08",
   "metadata": {},
   "outputs": [
    {
     "name": "stdout",
     "output_type": "stream",
     "text": [
      "Идеальные пары:\n",
      "alexei и anna\n",
      "igor и irina\n",
      "maxim и katya\n",
      "sergey и olga\n"
     ]
    }
   ],
   "source": [
    "boys=['alexei','igor','maxim','sergey']\n",
    "girls=['irina','anna','katya','olga',]\n",
    "list.sort(boys)\n",
    "list.sort(girls)\n",
    "a=len(boys)\n",
    "b=len(girls)\n",
    "#print (a)\n",
    "#print (b)\n",
    "if a==b:\n",
    "    print ('Идеальные пары:')\n",
    "    for i in range (a): print (boys[i], 'и', girls[i])\n",
    "else: print ('Кто-то может остаться без пары')"
   ]
  }
 ],
 "metadata": {
  "kernelspec": {
   "display_name": "Python 3 (ipykernel)",
   "language": "python",
   "name": "python3"
  },
  "language_info": {
   "codemirror_mode": {
    "name": "ipython",
    "version": 3
   },
   "file_extension": ".py",
   "mimetype": "text/x-python",
   "name": "python",
   "nbconvert_exporter": "python",
   "pygments_lexer": "ipython3",
   "version": "3.12.7"
  }
 },
 "nbformat": 4,
 "nbformat_minor": 5
}
