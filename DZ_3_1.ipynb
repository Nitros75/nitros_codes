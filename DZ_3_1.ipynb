{
 "cells": [
  {
   "cell_type": "code",
   "execution_count": 198,
   "id": "e3578dba-bde6-438d-aed2-bc80e38c40f5",
   "metadata": {},
   "outputs": [
    {
     "name": "stdin",
     "output_type": "stream",
     "text": [
      "Vvdeite nachalnoe chislo 12\n",
      "Vvdeite konechnoe chislo 26\n"
     ]
    },
    {
     "name": "stdout",
     "output_type": "stream",
     "text": [
      "[12, 13, 14, 15, 16, 17, 18, 19, 20, 21, 22, 23, 24, 25, 26]\n",
      "Cумма всех чисел между введенными, включительно 285\n"
     ]
    }
   ],
   "source": [
    "def sum_distance (fromm,to:int) -> int:\n",
    "    \"\"\"\n",
    "    Функция суиммирует все числа от первого числа до второго, введеными пользователем\n",
    "    Если первое больше второго, меняет их местами\n",
    "    \"\"\"\n",
    "    fromm= int(input('Vvdeite nachalnoe chislo'))\n",
    "    too =  int(input('Vvdeite konechnoe chislo'))\n",
    "    a=too-fromm\n",
    "    b=fromm-too\n",
    "    new_list=[]\n",
    "    #if fromm < to):условие почему то не хочет работать\n",
    "    for i in range(a+1):\n",
    "        d=fromm+i\n",
    "        new_list.append(i)\n",
    "        new_list[i]=(d)\n",
    "    #else:\n",
    "        #for i in range(b+1):\n",
    "            #d=fromm+i\n",
    "            #new_list.append(i)\n",
    "            #new_list[i]=(d)\n",
    "            \n",
    "    print (new_list)\n",
    "    print ('Cумма всех чисел между введенными, включительно', sum(new_list))\n",
    "    \n",
    "sum_distance (0,0)"
   ]
  },
  {
   "cell_type": "markdown",
   "id": "0b4f66fc-5a18-4519-ab9e-8527c35f41cf",
   "metadata": {},
   "source": [
    "# "
   ]
  }
 ],
 "metadata": {
  "kernelspec": {
   "display_name": "Python 3 (ipykernel)",
   "language": "python",
   "name": "python3"
  },
  "language_info": {
   "codemirror_mode": {
    "name": "ipython",
    "version": 3
   },
   "file_extension": ".py",
   "mimetype": "text/x-python",
   "name": "python",
   "nbconvert_exporter": "python",
   "pygments_lexer": "ipython3",
   "version": "3.12.7"
  }
 },
 "nbformat": 4,
 "nbformat_minor": 5
}
