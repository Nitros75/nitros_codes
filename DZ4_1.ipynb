{
 "cells": [
  {
   "cell_type": "code",
   "execution_count": 198,
   "id": "9c0129ad-a9a9-4747-bac6-42066bbe68fc",
   "metadata": {},
   "outputs": [],
   "source": [
    "d = {}\n",
    "slovar={}\n",
    "with open(file=\"purchase_log.txt\", encoding='utf-8') as file:\n",
    "    for line in file:\n",
    "       key, value =line.strip('\"}\\n').split(', ')\n",
    "       d[key]=value\n",
    "       a=key.strip('{\"user_id\": \"')\n",
    "       b=(value.strip('category\": \"'))\n",
    "       slovar[a]=b    \n",
    "       #print (a,',', b)"
   ]
  }
 ],
 "metadata": {
  "kernelspec": {
   "display_name": "Python 3 (ipykernel)",
   "language": "python",
   "name": "python3"
  },
  "language_info": {
   "codemirror_mode": {
    "name": "ipython",
    "version": 3
   },
   "file_extension": ".py",
   "mimetype": "text/x-python",
   "name": "python",
   "nbconvert_exporter": "python",
   "pygments_lexer": "ipython3",
   "version": "3.12.7"
  }
 },
 "nbformat": 4,
 "nbformat_minor": 5
}
