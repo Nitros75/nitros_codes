{
 "cells": [
  {
   "cell_type": "code",
   "execution_count": 49,
   "id": "848ea3c9-1bd2-4d91-8428-a663795ff239",
   "metadata": {},
   "outputs": [
    {
     "name": "stdout",
     "output_type": "stream",
     "text": [
      "Введите слово\n"
     ]
    },
    {
     "name": "stdin",
     "output_type": "stream",
     "text": [
      " 123456789\n"
     ]
    },
    {
     "name": "stdout",
     "output_type": "stream",
     "text": [
      "Результат: 5\n"
     ]
    }
   ],
   "source": [
    "print ('Введите слово')\n",
    "word=input()\n",
    "dlina=len(word)\n",
    "celoe=int(dlina%2)\n",
    "centr=dlina//2\n",
    "if celoe!=0 : \n",
    "    print('Результат:', word[centr])\n",
    "else: \n",
    "    print('Результат:', word[(centr)-1],word[centr])       "
   ]
  }
 ],
 "metadata": {
  "kernelspec": {
   "display_name": "Python 3 (ipykernel)",
   "language": "python",
   "name": "python3"
  },
  "language_info": {
   "codemirror_mode": {
    "name": "ipython",
    "version": 3
   },
   "file_extension": ".py",
   "mimetype": "text/x-python",
   "name": "python",
   "nbconvert_exporter": "python",
   "pygments_lexer": "ipython3",
   "version": "3.12.7"
  }
 },
 "nbformat": 4,
 "nbformat_minor": 5
}
